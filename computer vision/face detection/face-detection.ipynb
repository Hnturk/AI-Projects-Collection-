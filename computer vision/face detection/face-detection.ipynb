{
 "cells": [
  {
   "cell_type": "code",
   "execution_count": 3,
   "metadata": {},
   "outputs": [
    {
     "name": "stdout",
     "output_type": "stream",
     "text": [
      "Note: you may need to restart the kernel to use updated packages.\n"
     ]
    }
   ],
   "source": [
    "%pip install opencv-python -q"
   ]
  },
  {
   "cell_type": "code",
   "execution_count": 4,
   "metadata": {},
   "outputs": [],
   "source": [
    "import cv2\n",
    "\n",
    "# Load Haar cascade classifier for face detection\n",
    "face_cascade = cv2.CascadeClassifier(filename='haarcascade_frontalface_default.xml')\n",
    "\n",
    "# Initialize the default webcam\n",
    "webcam = cv2.VideoCapture(index=0)\n",
    "\n",
    "while True:\n",
    "    # Capture a frame from the webcam\n",
    "    _, img = webcam.read()\n",
    "\n",
    "    # Convert the image to grayscale\n",
    "    gray = cv2.cvtColor(src=img, code=cv2.COLOR_BGR2GRAY)\n",
    "\n",
    "    # Detect faces in the grayscale image\n",
    "    faces = face_cascade.detectMultiScale(image=gray, scaleFactor=1.5, minNeighbors=4)\n",
    "\n",
    "    # Draw rectangles around detected faces\n",
    "    for (x, y, w, h) in faces:\n",
    "        cv2.rectangle(img=img, pt1=(x, y), pt2=(x + w, y + h), color=(0, 255, 0), thickness=3)\n",
    "\n",
    "    # Display the processed image in a window\n",
    "    cv2.imshow(winname=\"Face detection\", mat=img)\n",
    "\n",
    "    # Exit loop if 'Esc' key is pressed\n",
    "    key = cv2.waitKey(delay=10)\n",
    "    if key == 27:\n",
    "        break\n",
    "\n",
    "# Release the webcam and close all OpenCV windows\n",
    "webcam.release()\n",
    "cv2.destroyAllWindows()"
   ]
  }
 ],
 "metadata": {
  "kernelspec": {
   "display_name": "base",
   "language": "python",
   "name": "python3"
  },
  "language_info": {
   "codemirror_mode": {
    "name": "ipython",
    "version": 3
   },
   "file_extension": ".py",
   "mimetype": "text/x-python",
   "name": "python",
   "nbconvert_exporter": "python",
   "pygments_lexer": "ipython3",
   "version": "3.10.15"
  }
 },
 "nbformat": 4,
 "nbformat_minor": 2
}
